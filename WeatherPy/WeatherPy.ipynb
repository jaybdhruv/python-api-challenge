{
 "cells": [
  {
   "cell_type": "code",
   "execution_count": 19,
   "metadata": {},
   "outputs": [],
   "source": [
    "# Dependencies and Setup\n",
    "import matplotlib.pyplot as plt\n",
    "import pandas as pd\n",
    "import numpy as np\n",
    "import requests\n",
    "import json\n",
    "import time\n",
    "import logging\n",
    "from scipy.stats import linregress\n",
    "\n",
    "# Import API key\n",
    "from api_keys import weather_api_key\n",
    "\n",
    "# Incorporated citipy to determine city based on latitude and longitude\n",
    "from citipy import citipy\n",
    "\n",
    "# Output File (CSV)\n",
    "output_data_file = \"output_data/cities.csv\"\n",
    "\n",
    "# Range of latitudes and longitudes\n",
    "lat_range = (-90, 90)\n",
    "lng_range = (-180, 180)"
   ]
  },
  {
   "cell_type": "markdown",
   "metadata": {},
   "source": [
    "## Generate Cities List"
   ]
  },
  {
   "cell_type": "code",
   "execution_count": 20,
   "metadata": {},
   "outputs": [
    {
     "data": {
      "text/plain": [
       "628"
      ]
     },
     "execution_count": 20,
     "metadata": {},
     "output_type": "execute_result"
    }
   ],
   "source": [
    "# List for holding lat_lngs and cities\n",
    "lat_lngs = []\n",
    "cities = []\n",
    "\n",
    "# Create a set of random lat and lng combinations\n",
    "lats = np.random.uniform(lat_range[0], lat_range[1], size=1500)\n",
    "lngs = np.random.uniform(lng_range[0], lng_range[1], size=1500)\n",
    "lat_lngs = zip(lats, lngs)\n",
    "\n",
    "# Identify nearest city for each lat, lng combination\n",
    "for lat_lng in lat_lngs:\n",
    "    city = citipy.nearest_city(lat_lng[0], lat_lng[1]).city_name\n",
    "    \n",
    "    # If the city is unique, then add it to a our cities list\n",
    "    if city not in cities:\n",
    "        cities.append(city)\n",
    "\n",
    "# Print the city count to confirm sufficient count\n",
    "len(cities)"
   ]
  },
  {
   "cell_type": "code",
   "execution_count": 58,
   "metadata": {},
   "outputs": [
    {
     "name": "stdout",
     "output_type": "stream",
     "text": [
      "['bambous virieux', 'ballina', 'chinhoyi', 'busselton', 'bluff', 'rikitea', 'semnan', 'hobart', 'port alfred', 'port lincoln', 'qaanaaq', 'jamestown', 'guiyang', 'vaini', 'ahipara', 'tumannyy', 'hit', 'east london', 'makurdi', 'villablino', 'orlik', 'cape town', 'new norfolk', 'portland', 'acapulco', 'mataura', 'salalah', 'yellowknife', 'bereda', 'voznesenye', 'mahebourg', 'atuona', 'thompson', 'bulawayo', 'hilo', 'butaritari', 'kloulklubed', 'nemuro', 'ushuaia', 'cartagena del chaira', 'winnemucca', 'boguchany', 'esik', 'camacha', 'eskasem', 'ylojarvi', 'albany', 'attawapiskat', 'provideniya', 'tapaua']\n"
     ]
    }
   ],
   "source": [
    "set_len = 50\n",
    "city_set = []\n",
    "\n",
    "range(len(cities))\n",
    "\n",
    "for x in range(0, len(cities), set_len):\n",
    "    city_set.append(cities[x:x+set_len])\n",
    "\n",
    "print(city_set[0])\n"
   ]
  },
  {
   "cell_type": "code",
   "execution_count": 68,
   "metadata": {},
   "outputs": [
    {
     "name": "stdout",
     "output_type": "stream",
     "text": [
      "['bambous virieux', 'ballina', 'chinhoyi', 'busselton', 'bluff', 'rikitea', 'semnan', 'hobart', 'port alfred', 'port lincoln', 'qaanaaq', 'jamestown', 'guiyang', 'vaini', 'ahipara', 'tumannyy', 'hit', 'east london', 'makurdi', 'villablino', 'orlik', 'cape town', 'new norfolk', 'portland', 'acapulco', 'mataura', 'salalah', 'yellowknife', 'bereda', 'voznesenye', 'mahebourg', 'atuona', 'thompson', 'bulawayo', 'hilo', 'butaritari', 'kloulklubed', 'nemuro', 'ushuaia', 'cartagena del chaira', 'winnemucca', 'boguchany', 'esik', 'camacha', 'eskasem', 'ylojarvi', 'albany', 'attawapiskat', 'provideniya', 'tapaua', 'punta arenas', 'bethel', 'lebu', 'kavieng', 'hastings', 'bunia', 'faya', 'dalvik', 'bijie', 'port hedland', 'curuguaty', 'akdepe', 'illoqqortoormiut', 'kutum', 'bredasdorp', 'holme', 'bristol', 'pierre', 'norman wells', 'talara', 'gorontalo', 'toliary', 'saint-joseph', 'nizhneyansk', 'hermanus', 'labuan', 'aripuana', 'taolanaro', 'saint anthony', 'mys shmidta', 'georgetown', 'vila do maio', 'dauphin', 'wageningen', 'hambantota', 'vagur', 'dikson', 'santa isabel do rio negro', 'carnarvon', 'koson', 'grand centre', 'tuggurt', 'sept-iles', 'astoria', 'garowe', 'alta floresta', 'faanui', 'balaipungut', 'port elizabeth', 'tondano', 'luderitz', 'bima', 'qandala', 'hithadhoo', 'rawson', 'rumford', 'arraial do cabo', 'tiksi', 'byron bay', 'lethem', 'tazmalt', 'flinders', 'olinda', 'paka', 'roald', 'amderma', 'batouri', 'saint-philippe', 'berlevag', 'gzhatsk', 'trairi', 'la ronge', 'manadhoo', 'khatanga', 'pangkalanbuun', 'planeta rica', 'pevek', 'guerrero negro', 'cidreira', 'tyrma', 'kailua', 'yuanping', 'severo-kurilsk', 'kodiak', 'kapaa', 'udachnyy', 'kanniyakumari', 'lata', 'qaqortoq', 'aras', 'itarema', 'klaksvik', 'drayton valley', 'beringovskiy', 'lagoa', 'codrington', 'cherskiy', 'mazatan', 'tuktoyaktuk', 'hermagor', 'hasaki', 'lazaro cardenas', 'bayan', 'souillac', 'mackay', 'tessalit', 'vardo', 'west plains', 'mezen', 'barrow', 'airai', 'castro', 'svetlogorsk', 'coos bay', 'cabo san lucas', 'vao', 'alugan', 'katsuura', 'forest grove', 'anloga', 'puerto ayora', 'nanortalik', 'ponta do sol', 'dubenskiy', 'naze', 'lima', 'nome', 'lompoc', 'belushya guba', 'bengkulu', 'halifax', 'umzimvubu', 'khor', 'duldurga', 'pontianak', 'evensk', 'oktyabrskoye', 'rocha', 'bartica', 'geraldton', 'kruisfontein', 'avila', 'tasiilaq', 'sur', 'port hardy', 'viligili', 'gamba', 'barentsburg', 'palabuhanratu', 'vostok', 'puerto gaitan', 'tsihombe', 'leninskoye', 'alice springs', 'rungata', 'longyearbyen', 'mar del plata', 'rosita', 'svetlaya', 'samusu', 'avarua', 'saskylakh', 'nikolskoye', 'bay roberts', 'paita', 'sentyabrskiy', 'bargal', 'leningradskiy', 'komsomolskiy', 'tuatapere', 'avera', 'atambua', 'mount gambier', 'imeni poliny osipenko', 'clyde river', 'humaita', 'borgosesia', 'sao filipe', 'dingle', 'asau', 'hay river', 'vila velha', 'sao joao da barra', 'crotone', 'lapua', 'kainantu', 'narrabri', 'ariquemes', 'novoagansk', 'yining', 'belmonte', 'vanavara', 'zaysan', 'alcaniz', 'te anau', 'victoria', 'sitka', 'mugur-aksy', 'gisborne', 'pangai', 'road town', 'kaitangata', 'saleaula', 'chuy', 'mandurah', 'baniyas', 'fortuna', 'najran', 'camana', 'alberton', 'basco', 'san javier', 'houston', 'jizan', 'port macquarie', 'kamenka', 'port-gentil', 'jamame', 'college', 'akodia', 'homer', 'poum', 'forbes', 'ewa beach', 'lavrentiya', 'saldanha', 'tabiauea', 'walvis bay', 'alofi', 'kupang', 'palu', 'riyadh', 'riberalta', 'nichinan', 'barhi', 'matara', 'sarkand', 'peniche', 'ust-barguzin', 'pangnirtung', 'khasan', 'powell', 'port blair', 'constitucion', 'flin flon', 'esperance', 'meulaboh', 'motala', 'richards bay', 'namatanai', 'brejinho', 'hagere hiywet', 'mankono', 'anglet', 'ede', 'oussouye', 'maues', 'gorin', 'grand-lahou', 'pandan', 'mana', 'ahuimanu', 'gobabis', 'kalmunai', 'simoes', 'kangalassy', 'along', 'grindavik', 'sterling', 'nueve de julio', 'myaundzha', 'kamenskoye', 'akureyri', 'artyk', 'chumikan', 'saint george', 'dzhusaly', 'fort nelson', 'marawi', 'ruwi', 'durban', 'tres lagoas', 'yessentuki', 'aykhal', 'gbadolite', 'honiara', 'qeshm', 'ribeira grande', 'caravelas', 'pacific grove', 'amahai', 'olot', 'cabedelo', 'pamplona', 'dindori', 'abha', 'srednekolymsk', 'jinchengjiang', 'pisco', 'marcona', 'khandyga', 'kolokani', 'damghan', 'todos santos', 'sola', 'namibe', 'kudahuvadhoo', 'akyab', 'kununurra', 'ibb', 'upernavik', 'bolungarvik', 'ligayan', 'trincomalee', 'grand river south east', 'paamiut', 'stoyba', 'gainesville', 'tezu', 'surin', 'tartagal', 'khormuj', 'mechetinskaya', 'cortez', 'taoudenni', 'mehamn', 'barabai', 'kuche', 'ostrovnoy', 'sistranda', 'ust-ishim', 'auxerre', 'skagastrond', 'chokurdakh', 'tual', 'fallon', 'torbay', 'caucaia', 'mercedes', 'coihaique', 'kadykchan', 'kernersville', 'vestmannaeyjar', 'corrales', 'touros', 'antalaha', 'khonuu', 'tucurui', 'naron', 'broken hill', 'bida', 'deputatskiy', 'inhambane', 'auki', 'ust-koksa', 'takhtamygda', 'iqaluit', 'chake chake', 'samalaeulu', 'sinkat', 'ghorawal', 'koulikoro', 'turukhansk', 'phulabani', 'tura', 'oranjemund', 'ubon ratchathani', 'kichera', 'wanning', 'bintulu', 'fayaoue', 'ulaangom', 'kiama', 'moron', 'segezha', 'kusk', 'luau', 'mahajanga', 'san cristobal', 'besancon', 'yarke pole', 'churapcha', 'warqla', 'northam', 'viedma', 'lorengau', 'joshimath', 'pasni', 'gazipur', 'diapaga', 'bowen', 'denpasar', 'vaitupu', 'nuuk', 'nortelandia', 'omsukchan', 'nizhniy tsasuchey', 'mozaceni', 'lorca', 'gwadar', 'san patricio', 'ampanihy', 'mayo', 'dongsheng', 'udankudi', 'ipanguacu', 'williston', 'jiddah', 'bath', 'ponca city', 'mahanoro', 'paliyad', 'batagay', 'adrar', 'zhigansk', 'merauke', 'abu samrah', 'cap malheureux', 'russell', 'thinadhoo', 'reutte', 'rio gallegos', 'alakurtti', 'mrakovo', 'okhotsk', 'cabo rojo', 'nouakchott', 'peta', 'shingu', 'san juan', 'yeppoon', 'coquimbo', 'saint-augustin', 'bad zwischenahn', 'nago', 'kabo', 'shimoda', 'ngukurr', 'tongren', 'bloomfield', 'sheridan', 'dalbandin', 'praya', 'saint-francois', 'necochea', 'marfino', 'young', 'lashio', 'kawalu', 'hami', 'benque viejo', 'fare', 'canala', 'verkhnyaya toyma', 'sayat', 'ingham', 'jhang', 'abu kamal', 'buala', 'plettenberg bay', 'bandarbeyla', 'karaton', 'saint-michel-des-saints', 'strzelce opolskie', 'kathmandu', 'meitingen', 'pran buri', 'boa viagem', 'laguna', 'luanda', 'acari', 'la peca', 'smithers', 'cockburn town', 'devils lake', 'corn island', 'margate', 'rasinari', 'yumen', 'sanghar', 'balykshi', 'samarai', 'fairbanks', 'lensk', 'tabuk', 'gryazovets', 'aklavik', 'gorele', 'iquitos', 'hobyo', 'ola', 'awbari', 'krasnoselkup', 'kerrville', 'muriti', 'novo aripuana', 'akonolinga', 'ibra', 'palmer', 'goderich', 'manturovo', 'gat', 'presidencia roque saenz pena', 'narsaq', 'alyangula', 'barcelona', 'rorvik', 'saint-pierre', 'moose factory', 'paradwip', 'santa cruz', 'oktyabrskiy', 'beroroha', 'bilecik', 'kirkenes', 'kahului', 'komyshuvakha', 'natal', 'ishigaki', 'lafia', 'olafsvik', 'lolua', 'murmashi', 'port keats', 'cody', 'sychevka', 'imeni stepana razina', 'juegang', 'uusikaupunki', 'bani walid', 'opuwo', 'jixi', 'baruun-urt', 'saint-leu', 'meadow lake', 'egvekinot', 'traverse city', 'pontes e lacerda', 'mentok', 'long beach', 'saint-georges', 'innisfail', 'paine', 'the valley', 'labuhan', 'rajbiraj', 'talnakh', 'san miguel', 'san policarpo', 'ust-nera', 'murray', 'gazli', 'ixtapa', 'atar', 'jardim', 'elko', 'sioux lookout', 'teguise', 'ancud', 'port hueneme', 'cam ranh', 'isangel', 'calamar', 'boddam', 'les cayes', 'haines junction', 'kasulu', 'ciudad guayana', 'conde', 'xiongzhou', 'berezniki', 'obidos', 'chama', 'kuala terengganu', 'koslan', 'yantal', 'keita', 'bongandanga']\n"
     ]
    }
   ],
   "source": [
    "city_name = []\n",
    "for i in range(len(city_set)):\n",
    "    for city in city_set[i]:\n",
    "        city_name.append(city)\n",
    "\n",
    "print(city_name)"
   ]
  },
  {
   "cell_type": "code",
   "execution_count": null,
   "metadata": {},
   "outputs": [],
   "source": []
  },
  {
   "cell_type": "code",
   "execution_count": null,
   "metadata": {},
   "outputs": [],
   "source": []
  },
  {
   "cell_type": "code",
   "execution_count": null,
   "metadata": {},
   "outputs": [],
   "source": []
  },
  {
   "cell_type": "code",
   "execution_count": 22,
   "metadata": {},
   "outputs": [],
   "source": [
    "units = \"imperial\"\n",
    "url = \"http://api.openweathermap.org/data/2.5/weather?\"\n",
    "\n",
    "query_url = f\"{url}appid={weather_api_key}&units={units}&q={city}\""
   ]
  },
  {
   "cell_type": "code",
   "execution_count": 43,
   "metadata": {},
   "outputs": [
    {
     "name": "stdout",
     "output_type": "stream",
     "text": [
      "{\n",
      "    \"coord\": {\n",
      "        \"lon\": -74.006,\n",
      "        \"lat\": 40.7143\n",
      "    },\n",
      "    \"weather\": [\n",
      "        {\n",
      "            \"id\": 800,\n",
      "            \"main\": \"Clear\",\n",
      "            \"description\": \"clear sky\",\n",
      "            \"icon\": \"01n\"\n",
      "        }\n",
      "    ],\n",
      "    \"base\": \"stations\",\n",
      "    \"main\": {\n",
      "        \"temp\": 74.08,\n",
      "        \"feels_like\": 74.3,\n",
      "        \"temp_min\": 69.51,\n",
      "        \"temp_max\": 76.08,\n",
      "        \"pressure\": 1016,\n",
      "        \"humidity\": 66\n",
      "    },\n",
      "    \"visibility\": 10000,\n",
      "    \"wind\": {\n",
      "        \"speed\": 1.01,\n",
      "        \"deg\": 84,\n",
      "        \"gust\": 3\n",
      "    },\n",
      "    \"clouds\": {\n",
      "        \"all\": 1\n",
      "    },\n",
      "    \"dt\": 1627185798,\n",
      "    \"sys\": {\n",
      "        \"type\": 2,\n",
      "        \"id\": 2039034,\n",
      "        \"country\": \"US\",\n",
      "        \"sunrise\": 1627206376,\n",
      "        \"sunset\": 1627258712\n",
      "    },\n",
      "    \"timezone\": -14400,\n",
      "    \"id\": 5128581,\n",
      "    \"name\": \"New York\",\n",
      "    \"cod\": 200\n",
      "}\n"
     ]
    }
   ],
   "source": [
    "sample = \"New York\"\n",
    "response = requests.get(f\"{url}appid={weather_api_key}&units={units}&q={sample}\").json()\n",
    "print(json.dumps(response, indent=4))"
   ]
  },
  {
   "cell_type": "code",
   "execution_count": null,
   "metadata": {},
   "outputs": [],
   "source": [
    "'''lat = []\n",
    "long = []\n",
    "max_temp = []\n",
    "humidity = []\n",
    "cloudiness = []\n",
    "wind_speed = []\n",
    "country = []\n",
    "city_id = []\n",
    "\n",
    "for city in cities:\n",
    "    response = requests.get(query_url + city).json()\n",
    "    print(json.dumps(response, indent=4, sort_keys='True'))'''"
   ]
  },
  {
   "cell_type": "code",
   "execution_count": 25,
   "metadata": {},
   "outputs": [],
   "source": [
    "lat = []\n",
    "lon = []\n",
    "max_temp = []\n",
    "humidity = []\n",
    "cloudiness = []\n",
    "wind_speed = []\n",
    "country = []\n",
    "city_id = []\n",
    "date = []\n",
    "cities_1 = [\"New York\", \"Paris\", \"Tokyo\", \"Mumbai\"]\n",
    "\n",
    "for city in cities_1:\n",
    "    #response = requests.get(f\"{url}appid={weather_api_key}&units={units}&q={city}\").json()\n",
    "    lat.append(response[\"coord\"][\"lat\"])\n",
    "    lon.append(response[\"coord\"][\"lon\"])\n",
    "    max_temp.append(response[\"main\"][\"temp_max\"])\n",
    "    humidity.append(response[\"main\"][\"humidity\"])\n",
    "    cloudiness.append(response[\"clouds\"][\"all\"])\n",
    "    wind_speed.append(response[\"wind\"][\"speed\"])\n",
    "    country.append(response[\"sys\"][\"country\"])\n",
    "    city_id.append(response[\"id\"])\n",
    "    date.append(response[\"dt\"])\n"
   ]
  },
  {
   "cell_type": "code",
   "execution_count": 83,
   "metadata": {},
   "outputs": [
    {
     "data": {
      "text/html": [
       "<div>\n",
       "<style scoped>\n",
       "    .dataframe tbody tr th:only-of-type {\n",
       "        vertical-align: middle;\n",
       "    }\n",
       "\n",
       "    .dataframe tbody tr th {\n",
       "        vertical-align: top;\n",
       "    }\n",
       "\n",
       "    .dataframe thead th {\n",
       "        text-align: right;\n",
       "    }\n",
       "</style>\n",
       "<table border=\"1\" class=\"dataframe\">\n",
       "  <thead>\n",
       "    <tr style=\"text-align: right;\">\n",
       "      <th></th>\n",
       "      <th>City</th>\n",
       "      <th>Lat</th>\n",
       "      <th>Lng</th>\n",
       "      <th>Max Temp</th>\n",
       "      <th>Humidity</th>\n",
       "      <th>Cloudiness</th>\n",
       "      <th>Wind Speed</th>\n",
       "      <th>Country</th>\n",
       "      <th>Date</th>\n",
       "    </tr>\n",
       "  </thead>\n",
       "  <tbody>\n",
       "    <tr>\n",
       "      <th>0</th>\n",
       "      <td>New York</td>\n",
       "      <td>40.7143</td>\n",
       "      <td>-74.0060</td>\n",
       "      <td>76.05</td>\n",
       "      <td>68</td>\n",
       "      <td>1</td>\n",
       "      <td>1.01</td>\n",
       "      <td>US</td>\n",
       "      <td>1627185293</td>\n",
       "    </tr>\n",
       "    <tr>\n",
       "      <th>1</th>\n",
       "      <td>Paris</td>\n",
       "      <td>48.8534</td>\n",
       "      <td>2.3488</td>\n",
       "      <td>65.77</td>\n",
       "      <td>88</td>\n",
       "      <td>90</td>\n",
       "      <td>1.01</td>\n",
       "      <td>FR</td>\n",
       "      <td>1627185130</td>\n",
       "    </tr>\n",
       "    <tr>\n",
       "      <th>2</th>\n",
       "      <td>Tokyo</td>\n",
       "      <td>35.6895</td>\n",
       "      <td>139.6917</td>\n",
       "      <td>95.52</td>\n",
       "      <td>46</td>\n",
       "      <td>20</td>\n",
       "      <td>3.00</td>\n",
       "      <td>JP</td>\n",
       "      <td>1627185337</td>\n",
       "    </tr>\n",
       "    <tr>\n",
       "      <th>3</th>\n",
       "      <td>Mumbai</td>\n",
       "      <td>19.0144</td>\n",
       "      <td>72.8479</td>\n",
       "      <td>84.18</td>\n",
       "      <td>89</td>\n",
       "      <td>75</td>\n",
       "      <td>8.05</td>\n",
       "      <td>IN</td>\n",
       "      <td>1627185279</td>\n",
       "    </tr>\n",
       "  </tbody>\n",
       "</table>\n",
       "</div>"
      ],
      "text/plain": [
       "       City      Lat       Lng  Max Temp  Humidity  Cloudiness  Wind Speed  \\\n",
       "0  New York  40.7143  -74.0060     76.05        68           1        1.01   \n",
       "1     Paris  48.8534    2.3488     65.77        88          90        1.01   \n",
       "2     Tokyo  35.6895  139.6917     95.52        46          20        3.00   \n",
       "3    Mumbai  19.0144   72.8479     84.18        89          75        8.05   \n",
       "\n",
       "  Country        Date  \n",
       "0      US  1627185293  \n",
       "1      FR  1627185130  \n",
       "2      JP  1627185337  \n",
       "3      IN  1627185279  "
      ]
     },
     "execution_count": 83,
     "metadata": {},
     "output_type": "execute_result"
    }
   ],
   "source": [
    "cities_weather_df = pd.DataFrame({\"City\": cities_1,\n",
    "                               \"Lat\": lat, \n",
    "                               \"Lng\": lon, \n",
    "                               \"Max Temp\": max_temp, \n",
    "                               \"Humidity\": humidity, \n",
    "                               \"Cloudiness\": cloudiness, \n",
    "                               \"Wind Speed\": wind_speed, \n",
    "                               \"Country\": country, \n",
    "                               \"Date\": date})\n",
    "cities_weather_df"
   ]
  },
  {
   "cell_type": "code",
   "execution_count": 39,
   "metadata": {},
   "outputs": [],
   "source": [
    "cities_weather_df.to_csv(output_data_file)"
   ]
  },
  {
   "cell_type": "code",
   "execution_count": 44,
   "metadata": {},
   "outputs": [
    {
     "data": {
      "text/html": [
       "<div>\n",
       "<style scoped>\n",
       "    .dataframe tbody tr th:only-of-type {\n",
       "        vertical-align: middle;\n",
       "    }\n",
       "\n",
       "    .dataframe tbody tr th {\n",
       "        vertical-align: top;\n",
       "    }\n",
       "\n",
       "    .dataframe thead th {\n",
       "        text-align: right;\n",
       "    }\n",
       "</style>\n",
       "<table border=\"1\" class=\"dataframe\">\n",
       "  <thead>\n",
       "    <tr style=\"text-align: right;\">\n",
       "      <th></th>\n",
       "      <th>Lat</th>\n",
       "      <th>Lng</th>\n",
       "      <th>Max Temp</th>\n",
       "      <th>Humidity</th>\n",
       "      <th>Cloudiness</th>\n",
       "      <th>Wind Speed</th>\n",
       "      <th>Date</th>\n",
       "    </tr>\n",
       "  </thead>\n",
       "  <tbody>\n",
       "    <tr>\n",
       "      <th>count</th>\n",
       "      <td>4.000000</td>\n",
       "      <td>4.000000</td>\n",
       "      <td>4.000000</td>\n",
       "      <td>4.000000</td>\n",
       "      <td>4.000000</td>\n",
       "      <td>4.000000</td>\n",
       "      <td>4.000000e+00</td>\n",
       "    </tr>\n",
       "    <tr>\n",
       "      <th>mean</th>\n",
       "      <td>36.067900</td>\n",
       "      <td>35.220600</td>\n",
       "      <td>80.380000</td>\n",
       "      <td>72.750000</td>\n",
       "      <td>46.500000</td>\n",
       "      <td>3.267500</td>\n",
       "      <td>1.627185e+09</td>\n",
       "    </tr>\n",
       "    <tr>\n",
       "      <th>std</th>\n",
       "      <td>12.596601</td>\n",
       "      <td>91.907616</td>\n",
       "      <td>12.594451</td>\n",
       "      <td>20.287517</td>\n",
       "      <td>42.727821</td>\n",
       "      <td>3.323476</td>\n",
       "      <td>8.996064e+01</td>\n",
       "    </tr>\n",
       "    <tr>\n",
       "      <th>min</th>\n",
       "      <td>19.014400</td>\n",
       "      <td>-74.006000</td>\n",
       "      <td>65.770000</td>\n",
       "      <td>46.000000</td>\n",
       "      <td>1.000000</td>\n",
       "      <td>1.010000</td>\n",
       "      <td>1.627185e+09</td>\n",
       "    </tr>\n",
       "    <tr>\n",
       "      <th>25%</th>\n",
       "      <td>31.520725</td>\n",
       "      <td>-16.739900</td>\n",
       "      <td>73.480000</td>\n",
       "      <td>62.500000</td>\n",
       "      <td>15.250000</td>\n",
       "      <td>1.010000</td>\n",
       "      <td>1.627185e+09</td>\n",
       "    </tr>\n",
       "    <tr>\n",
       "      <th>50%</th>\n",
       "      <td>38.201900</td>\n",
       "      <td>37.598350</td>\n",
       "      <td>80.115000</td>\n",
       "      <td>78.000000</td>\n",
       "      <td>47.500000</td>\n",
       "      <td>2.005000</td>\n",
       "      <td>1.627185e+09</td>\n",
       "    </tr>\n",
       "    <tr>\n",
       "      <th>75%</th>\n",
       "      <td>42.749075</td>\n",
       "      <td>89.558850</td>\n",
       "      <td>87.015000</td>\n",
       "      <td>88.250000</td>\n",
       "      <td>78.750000</td>\n",
       "      <td>4.262500</td>\n",
       "      <td>1.627185e+09</td>\n",
       "    </tr>\n",
       "    <tr>\n",
       "      <th>max</th>\n",
       "      <td>48.853400</td>\n",
       "      <td>139.691700</td>\n",
       "      <td>95.520000</td>\n",
       "      <td>89.000000</td>\n",
       "      <td>90.000000</td>\n",
       "      <td>8.050000</td>\n",
       "      <td>1.627185e+09</td>\n",
       "    </tr>\n",
       "  </tbody>\n",
       "</table>\n",
       "</div>"
      ],
      "text/plain": [
       "             Lat         Lng   Max Temp   Humidity  Cloudiness  Wind Speed  \\\n",
       "count   4.000000    4.000000   4.000000   4.000000    4.000000    4.000000   \n",
       "mean   36.067900   35.220600  80.380000  72.750000   46.500000    3.267500   \n",
       "std    12.596601   91.907616  12.594451  20.287517   42.727821    3.323476   \n",
       "min    19.014400  -74.006000  65.770000  46.000000    1.000000    1.010000   \n",
       "25%    31.520725  -16.739900  73.480000  62.500000   15.250000    1.010000   \n",
       "50%    38.201900   37.598350  80.115000  78.000000   47.500000    2.005000   \n",
       "75%    42.749075   89.558850  87.015000  88.250000   78.750000    4.262500   \n",
       "max    48.853400  139.691700  95.520000  89.000000   90.000000    8.050000   \n",
       "\n",
       "               Date  \n",
       "count  4.000000e+00  \n",
       "mean   1.627185e+09  \n",
       "std    8.996064e+01  \n",
       "min    1.627185e+09  \n",
       "25%    1.627185e+09  \n",
       "50%    1.627185e+09  \n",
       "75%    1.627185e+09  \n",
       "max    1.627185e+09  "
      ]
     },
     "execution_count": 44,
     "metadata": {},
     "output_type": "execute_result"
    }
   ],
   "source": [
    "cities_weather_stats = cities_weather_df.describe()\n",
    "cities_weather_stats"
   ]
  },
  {
   "cell_type": "code",
   "execution_count": 88,
   "metadata": {},
   "outputs": [
    {
     "data": {
      "text/plain": [
       "Int64Index([1, 3], dtype='int64')"
      ]
     },
     "execution_count": 88,
     "metadata": {},
     "output_type": "execute_result"
    }
   ],
   "source": [
    "humidity_outliers = cities_weather_df.loc[cities_weather_df[\"Humidity\"] > 80]\n",
    "humidity_outliers.index"
   ]
  },
  {
   "cell_type": "code",
   "execution_count": null,
   "metadata": {},
   "outputs": [],
   "source": []
  },
  {
   "cell_type": "code",
   "execution_count": 89,
   "metadata": {},
   "outputs": [
    {
     "data": {
      "text/html": [
       "<div>\n",
       "<style scoped>\n",
       "    .dataframe tbody tr th:only-of-type {\n",
       "        vertical-align: middle;\n",
       "    }\n",
       "\n",
       "    .dataframe tbody tr th {\n",
       "        vertical-align: top;\n",
       "    }\n",
       "\n",
       "    .dataframe thead th {\n",
       "        text-align: right;\n",
       "    }\n",
       "</style>\n",
       "<table border=\"1\" class=\"dataframe\">\n",
       "  <thead>\n",
       "    <tr style=\"text-align: right;\">\n",
       "      <th></th>\n",
       "      <th>City</th>\n",
       "      <th>Lat</th>\n",
       "      <th>Lng</th>\n",
       "      <th>Max Temp</th>\n",
       "      <th>Humidity</th>\n",
       "      <th>Cloudiness</th>\n",
       "      <th>Wind Speed</th>\n",
       "      <th>Country</th>\n",
       "      <th>Date</th>\n",
       "    </tr>\n",
       "  </thead>\n",
       "  <tbody>\n",
       "    <tr>\n",
       "      <th>0</th>\n",
       "      <td>New York</td>\n",
       "      <td>40.7143</td>\n",
       "      <td>-74.0060</td>\n",
       "      <td>76.05</td>\n",
       "      <td>68</td>\n",
       "      <td>1</td>\n",
       "      <td>1.01</td>\n",
       "      <td>US</td>\n",
       "      <td>1627185293</td>\n",
       "    </tr>\n",
       "    <tr>\n",
       "      <th>1</th>\n",
       "      <td>Paris</td>\n",
       "      <td>48.8534</td>\n",
       "      <td>2.3488</td>\n",
       "      <td>65.77</td>\n",
       "      <td>88</td>\n",
       "      <td>90</td>\n",
       "      <td>1.01</td>\n",
       "      <td>FR</td>\n",
       "      <td>1627185130</td>\n",
       "    </tr>\n",
       "    <tr>\n",
       "      <th>2</th>\n",
       "      <td>Tokyo</td>\n",
       "      <td>35.6895</td>\n",
       "      <td>139.6917</td>\n",
       "      <td>95.52</td>\n",
       "      <td>46</td>\n",
       "      <td>20</td>\n",
       "      <td>3.00</td>\n",
       "      <td>JP</td>\n",
       "      <td>1627185337</td>\n",
       "    </tr>\n",
       "    <tr>\n",
       "      <th>3</th>\n",
       "      <td>Mumbai</td>\n",
       "      <td>19.0144</td>\n",
       "      <td>72.8479</td>\n",
       "      <td>84.18</td>\n",
       "      <td>89</td>\n",
       "      <td>75</td>\n",
       "      <td>8.05</td>\n",
       "      <td>IN</td>\n",
       "      <td>1627185279</td>\n",
       "    </tr>\n",
       "  </tbody>\n",
       "</table>\n",
       "</div>"
      ],
      "text/plain": [
       "       City      Lat       Lng  Max Temp  Humidity  Cloudiness  Wind Speed  \\\n",
       "0  New York  40.7143  -74.0060     76.05        68           1        1.01   \n",
       "1     Paris  48.8534    2.3488     65.77        88          90        1.01   \n",
       "2     Tokyo  35.6895  139.6917     95.52        46          20        3.00   \n",
       "3    Mumbai  19.0144   72.8479     84.18        89          75        8.05   \n",
       "\n",
       "  Country        Date  \n",
       "0      US  1627185293  \n",
       "1      FR  1627185130  \n",
       "2      JP  1627185337  \n",
       "3      IN  1627185279  "
      ]
     },
     "execution_count": 89,
     "metadata": {},
     "output_type": "execute_result"
    }
   ],
   "source": [
    "cities_weather_df"
   ]
  },
  {
   "cell_type": "code",
   "execution_count": 93,
   "metadata": {},
   "outputs": [
    {
     "data": {
      "image/png": "[encoded data removed]",
      "text/plain": [
       "<Figure size 432x288 with 1 Axes>"
      ]
     },
     "metadata": {
      "needs_background": "light"
     },
     "output_type": "display_data"
    }
   ],
   "source": [
    "# Finding Linear Regression for Effective Field Goal and Winning Percentage\n",
    "x_axis = cities_weather_df[\"Lat\"]\n",
    "y_axis = cities_weather_df[\"Max Temp\"]\n",
    "\n",
    "(slope, intercept, r_value, p_value, std_err) = linregress(x_axis,y_axis)\n",
    "\n",
    "# Line equation to find Predcited winning percentages\n",
    "regress_value = slope*x_axis + intercept\n",
    "\n",
    "# Line equation to print on the scatter plot\n",
    "line_eq = \"y = \" + str(round(slope,2)) + \"x + \" + str(round(intercept,2))\n",
    "\n",
    "# Scatter plot of Effective Field Goal against winning%\n",
    "plt.scatter(x_axis, y_axis)\n",
    "\n",
    "# Line plot for regerssion line\n",
    "plt.plot(x_axis,regress_value, \"r-\")\n",
    "\n",
    "# Display regression line\n",
    "plt.annotate(line_eq,(20,70), fontsize=14, color=\"red\")\n",
    "\n",
    "# Labels and Titles for the plot\n",
    "plt.xlabel(\"Latittude\", fontsize=12)\n",
    "plt.ylabel(\"Max Temperature (F)\", fontsize=12)\n",
    "plt.title(\"City Latittude vs. Max Temperature\", fontsize=14)\n",
    "\n",
    "# Saving scatter plot graph into visualization folder\n",
    "#plt.savefig(\"Visualizations/EffectiveFieldGoal.jpg\")\n",
    "\n",
    "# Display plot\n",
    "plt.show()"
   ]
  },
  {
   "cell_type": "code",
   "execution_count": null,
   "metadata": {},
   "outputs": [],
   "source": []
  },
  {
   "cell_type": "code",
   "execution_count": null,
   "metadata": {},
   "outputs": [],
   "source": []
  },
  {
   "cell_type": "code",
   "execution_count": null,
   "metadata": {},
   "outputs": [],
   "source": []
  },
  {
   "cell_type": "code",
   "execution_count": null,
   "metadata": {},
   "outputs": [],
   "source": []
  },
  {
   "cell_type": "code",
   "execution_count": null,
   "metadata": {},
   "outputs": [],
   "source": []
  },
  {
   "cell_type": "code",
   "execution_count": null,
   "metadata": {},
   "outputs": [],
   "source": []
  },
  {
   "cell_type": "code",
   "execution_count": null,
   "metadata": {},
   "outputs": [],
   "source": []
  },
  {
   "cell_type": "code",
   "execution_count": null,
   "metadata": {},
   "outputs": [],
   "source": []
  },
  {
   "cell_type": "code",
   "execution_count": null,
   "metadata": {},
   "outputs": [],
   "source": []
  },
  {
   "cell_type": "code",
   "execution_count": null,
   "metadata": {},
   "outputs": [],
   "source": []
  },
  {
   "cell_type": "code",
   "execution_count": null,
   "metadata": {},
   "outputs": [],
   "source": []
  },
  {
   "cell_type": "code",
   "execution_count": null,
   "metadata": {},
   "outputs": [],
   "source": []
  },
  {
   "cell_type": "code",
   "execution_count": null,
   "metadata": {},
   "outputs": [],
   "source": []
  },
  {
   "cell_type": "code",
   "execution_count": null,
   "metadata": {},
   "outputs": [],
   "source": []
  },
  {
   "cell_type": "code",
   "execution_count": null,
   "metadata": {},
   "outputs": [],
   "source": []
  },
  {
   "cell_type": "code",
   "execution_count": null,
   "metadata": {},
   "outputs": [],
   "source": []
  },
  {
   "cell_type": "code",
   "execution_count": null,
   "metadata": {},
   "outputs": [],
   "source": []
  },
  {
   "cell_type": "code",
   "execution_count": null,
   "metadata": {},
   "outputs": [],
   "source": []
  },
  {
   "cell_type": "code",
   "execution_count": null,
   "metadata": {},
   "outputs": [],
   "source": []
  },
  {
   "cell_type": "code",
   "execution_count": null,
   "metadata": {},
   "outputs": [],
   "source": []
  },
  {
   "cell_type": "code",
   "execution_count": null,
   "metadata": {},
   "outputs": [],
   "source": []
  },
  {
   "cell_type": "code",
   "execution_count": null,
   "metadata": {},
   "outputs": [],
   "source": []
  },
  {
   "cell_type": "code",
   "execution_count": null,
   "metadata": {},
   "outputs": [],
   "source": []
  },
  {
   "cell_type": "code",
   "execution_count": null,
   "metadata": {},
   "outputs": [],
   "source": []
  },
  {
   "cell_type": "code",
   "execution_count": null,
   "metadata": {},
   "outputs": [],
   "source": []
  },
  {
   "cell_type": "code",
   "execution_count": null,
   "metadata": {},
   "outputs": [],
   "source": []
  },
  {
   "cell_type": "code",
   "execution_count": null,
   "metadata": {},
   "outputs": [],
   "source": []
  },
  {
   "cell_type": "code",
   "execution_count": null,
   "metadata": {},
   "outputs": [],
   "source": []
  },
  {
   "cell_type": "code",
   "execution_count": null,
   "metadata": {},
   "outputs": [],
   "source": []
  },
  {
   "cell_type": "code",
   "execution_count": null,
   "metadata": {},
   "outputs": [],
   "source": []
  },
  {
   "cell_type": "code",
   "execution_count": null,
   "metadata": {},
   "outputs": [],
   "source": []
  },
  {
   "cell_type": "code",
   "execution_count": null,
   "metadata": {},
   "outputs": [],
   "source": []
  },
  {
   "cell_type": "code",
   "execution_count": null,
   "metadata": {},
   "outputs": [],
   "source": []
  },
  {
   "cell_type": "code",
   "execution_count": null,
   "metadata": {},
   "outputs": [],
   "source": []
  },
  {
   "cell_type": "code",
   "execution_count": null,
   "metadata": {},
   "outputs": [],
   "source": []
  },
  {
   "cell_type": "code",
   "execution_count": null,
   "metadata": {},
   "outputs": [],
   "source": []
  }
 ],
 "metadata": {
  "kernelspec": {
   "display_name": "Python 3",
   "language": "python",
   "name": "python3"
  },
  "language_info": {
   "codemirror_mode": {
    "name": "ipython",
    "version": 3
   },
   "file_extension": ".py",
   "mimetype": "text/x-python",
   "name": "python",
   "nbconvert_exporter": "python",
   "pygments_lexer": "ipython3",
   "version": "3.6.10"
  }
 },
 "nbformat": 4,
 "nbformat_minor": 4
}
